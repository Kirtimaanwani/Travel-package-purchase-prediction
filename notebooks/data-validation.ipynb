{
 "cells": [
  {
   "cell_type": "code",
   "execution_count": 2,
   "metadata": {},
   "outputs": [],
   "source": [
    "import pandas as pd\n",
    "import numpy as np"
   ]
  },
  {
   "cell_type": "code",
   "execution_count": 3,
   "metadata": {},
   "outputs": [],
   "source": [
    "df = pd.read_csv(\"/config/workspace/tour_package.csv\")"
   ]
  },
  {
   "cell_type": "code",
   "execution_count": 6,
   "metadata": {},
   "outputs": [
    {
     "name": "stdout",
     "output_type": "stream",
     "text": [
      "<class 'pandas.core.frame.DataFrame'>\n",
      "RangeIndex: 4888 entries, 0 to 4887\n",
      "Data columns (total 20 columns):\n",
      " #   Column                    Non-Null Count  Dtype  \n",
      "---  ------                    --------------  -----  \n",
      " 0   CustomerID                4888 non-null   int64  \n",
      " 1   ProdTaken                 4888 non-null   int64  \n",
      " 2   Age                       4662 non-null   float64\n",
      " 3   TypeofContact             4863 non-null   object \n",
      " 4   CityTier                  4888 non-null   int64  \n",
      " 5   DurationOfPitch           4637 non-null   float64\n",
      " 6   Occupation                4888 non-null   object \n",
      " 7   Gender                    4888 non-null   object \n",
      " 8   NumberOfPersonVisiting    4888 non-null   int64  \n",
      " 9   NumberOfFollowups         4843 non-null   float64\n",
      " 10  ProductPitched            4888 non-null   object \n",
      " 11  PreferredPropertyStar     4862 non-null   float64\n",
      " 12  MaritalStatus             4888 non-null   object \n",
      " 13  NumberOfTrips             4748 non-null   float64\n",
      " 14  Passport                  4888 non-null   int64  \n",
      " 15  PitchSatisfactionScore    4888 non-null   int64  \n",
      " 16  OwnCar                    4888 non-null   int64  \n",
      " 17  NumberOfChildrenVisiting  4822 non-null   float64\n",
      " 18  Designation               4888 non-null   object \n",
      " 19  MonthlyIncome             4655 non-null   float64\n",
      "dtypes: float64(7), int64(7), object(6)\n",
      "memory usage: 763.9+ KB\n"
     ]
    }
   ],
   "source": [
    "df.info()"
   ]
  },
  {
   "cell_type": "code",
   "execution_count": 13,
   "metadata": {},
   "outputs": [],
   "source": [
    "config = {\"columns\": {},\n",
    "            \"numerical_columns\":[],\n",
    "                \"categorical_columns\":[],\n",
    "                    \"drop_columns\":[]}"
   ]
  },
  {
   "cell_type": "code",
   "execution_count": 23,
   "metadata": {},
   "outputs": [],
   "source": [
    "for i in df.columns:\n",
    "    config[\"columns\"].update({i : df[i].dtype.name})"
   ]
  },
  {
   "cell_type": "code",
   "execution_count": 25,
   "metadata": {},
   "outputs": [],
   "source": [
    "config[\"numerical_columns\"].extend(['CustomerID', 'Age', 'DurationOfPitch', 'NumberOfTrips',\n",
    "       'MonthlyIncome'])"
   ]
  },
  {
   "cell_type": "code",
   "execution_count": 22,
   "metadata": {},
   "outputs": [
    {
     "data": {
      "text/plain": [
       "'float64'"
      ]
     },
     "execution_count": 22,
     "metadata": {},
     "output_type": "execute_result"
    }
   ],
   "source": [
    "df.Age.dtypes.name"
   ]
  },
  {
   "cell_type": "code",
   "execution_count": 26,
   "metadata": {},
   "outputs": [
    {
     "data": {
      "text/plain": [
       "{'columns': {'CustomerID': 'int64',\n",
       "  'ProdTaken': 'int64',\n",
       "  'Age': 'float64',\n",
       "  'TypeofContact': 'object',\n",
       "  'CityTier': 'int64',\n",
       "  'DurationOfPitch': 'float64',\n",
       "  'Occupation': 'object',\n",
       "  'Gender': 'object',\n",
       "  'NumberOfPersonVisiting': 'int64',\n",
       "  'NumberOfFollowups': 'float64',\n",
       "  'ProductPitched': 'object',\n",
       "  'PreferredPropertyStar': 'float64',\n",
       "  'MaritalStatus': 'object',\n",
       "  'NumberOfTrips': 'float64',\n",
       "  'Passport': 'int64',\n",
       "  'PitchSatisfactionScore': 'int64',\n",
       "  'OwnCar': 'int64',\n",
       "  'NumberOfChildrenVisiting': 'float64',\n",
       "  'Designation': 'object',\n",
       "  'MonthlyIncome': 'float64'},\n",
       " 'numerical_columns': ['CustomerID',\n",
       "  'Age',\n",
       "  'DurationOfPitch',\n",
       "  'NumberOfTrips',\n",
       "  'MonthlyIncome'],\n",
       " 'categorical_columns': [],\n",
       " 'drop_columns': []}"
      ]
     },
     "execution_count": 26,
     "metadata": {},
     "output_type": "execute_result"
    }
   ],
   "source": [
    "config"
   ]
  },
  {
   "cell_type": "code",
   "execution_count": 27,
   "metadata": {},
   "outputs": [],
   "source": [
    "config[\"categorical_columns\"].extend(['ProdTaken', 'CityTier', 'NumberOfPersonVisiting', 'NumberOfFollowups',\n",
    "       'PreferredPropertyStar', 'Passport', 'PitchSatisfactionScore', 'OwnCar',\n",
    "       'NumberOfChildrenVisiting','TypeofContact', 'Occupation', 'Gender', 'ProductPitched',\n",
    "       'MaritalStatus', 'Designation'])"
   ]
  },
  {
   "cell_type": "code",
   "execution_count": 28,
   "metadata": {},
   "outputs": [
    {
     "data": {
      "text/plain": [
       "{'columns': {'CustomerID': 'int64',\n",
       "  'ProdTaken': 'int64',\n",
       "  'Age': 'float64',\n",
       "  'TypeofContact': 'object',\n",
       "  'CityTier': 'int64',\n",
       "  'DurationOfPitch': 'float64',\n",
       "  'Occupation': 'object',\n",
       "  'Gender': 'object',\n",
       "  'NumberOfPersonVisiting': 'int64',\n",
       "  'NumberOfFollowups': 'float64',\n",
       "  'ProductPitched': 'object',\n",
       "  'PreferredPropertyStar': 'float64',\n",
       "  'MaritalStatus': 'object',\n",
       "  'NumberOfTrips': 'float64',\n",
       "  'Passport': 'int64',\n",
       "  'PitchSatisfactionScore': 'int64',\n",
       "  'OwnCar': 'int64',\n",
       "  'NumberOfChildrenVisiting': 'float64',\n",
       "  'Designation': 'object',\n",
       "  'MonthlyIncome': 'float64'},\n",
       " 'numerical_columns': ['CustomerID',\n",
       "  'Age',\n",
       "  'DurationOfPitch',\n",
       "  'NumberOfTrips',\n",
       "  'MonthlyIncome'],\n",
       " 'categorical_columns': ['ProdTaken',\n",
       "  'CityTier',\n",
       "  'NumberOfPersonVisiting',\n",
       "  'NumberOfFollowups',\n",
       "  'PreferredPropertyStar',\n",
       "  'Passport',\n",
       "  'PitchSatisfactionScore',\n",
       "  'OwnCar',\n",
       "  'NumberOfChildrenVisiting',\n",
       "  'TypeofContact',\n",
       "  'Occupation',\n",
       "  'Gender',\n",
       "  'ProductPitched',\n",
       "  'MaritalStatus',\n",
       "  'Designation'],\n",
       " 'drop_columns': []}"
      ]
     },
     "execution_count": 28,
     "metadata": {},
     "output_type": "execute_result"
    }
   ],
   "source": [
    "config"
   ]
  },
  {
   "cell_type": "code",
   "execution_count": 29,
   "metadata": {},
   "outputs": [],
   "source": [
    "config[\"drop_columns\"].append(\"CustomerID\")"
   ]
  },
  {
   "cell_type": "code",
   "execution_count": 30,
   "metadata": {},
   "outputs": [
    {
     "data": {
      "text/plain": [
       "{'columns': {'CustomerID': 'int64',\n",
       "  'ProdTaken': 'int64',\n",
       "  'Age': 'float64',\n",
       "  'TypeofContact': 'object',\n",
       "  'CityTier': 'int64',\n",
       "  'DurationOfPitch': 'float64',\n",
       "  'Occupation': 'object',\n",
       "  'Gender': 'object',\n",
       "  'NumberOfPersonVisiting': 'int64',\n",
       "  'NumberOfFollowups': 'float64',\n",
       "  'ProductPitched': 'object',\n",
       "  'PreferredPropertyStar': 'float64',\n",
       "  'MaritalStatus': 'object',\n",
       "  'NumberOfTrips': 'float64',\n",
       "  'Passport': 'int64',\n",
       "  'PitchSatisfactionScore': 'int64',\n",
       "  'OwnCar': 'int64',\n",
       "  'NumberOfChildrenVisiting': 'float64',\n",
       "  'Designation': 'object',\n",
       "  'MonthlyIncome': 'float64'},\n",
       " 'numerical_columns': ['CustomerID',\n",
       "  'Age',\n",
       "  'DurationOfPitch',\n",
       "  'NumberOfTrips',\n",
       "  'MonthlyIncome'],\n",
       " 'categorical_columns': ['ProdTaken',\n",
       "  'CityTier',\n",
       "  'NumberOfPersonVisiting',\n",
       "  'NumberOfFollowups',\n",
       "  'PreferredPropertyStar',\n",
       "  'Passport',\n",
       "  'PitchSatisfactionScore',\n",
       "  'OwnCar',\n",
       "  'NumberOfChildrenVisiting',\n",
       "  'TypeofContact',\n",
       "  'Occupation',\n",
       "  'Gender',\n",
       "  'ProductPitched',\n",
       "  'MaritalStatus',\n",
       "  'Designation'],\n",
       " 'drop_columns': ['CustomerID']}"
      ]
     },
     "execution_count": 30,
     "metadata": {},
     "output_type": "execute_result"
    }
   ],
   "source": [
    "config"
   ]
  },
  {
   "cell_type": "code",
   "execution_count": 33,
   "metadata": {},
   "outputs": [],
   "source": [
    "import yaml\n",
    "import dill\n",
    "import os, sys\n",
    "def write_yaml_file(file_path: str, content: object, replace: bool = False)->None:\n",
    "    # logging.info(f\"Writting yaml file at [{file_path}], replace: [{replace}], from main_utils class\")\n",
    "\n",
    "    if replace:\n",
    "        if os.path.exists(file_path):\n",
    "            os.remove(file_path)\n",
    "    os.makedirs(os.path.dirname(file_path), exist_ok=True)\n",
    "    with open(file_path, \"w\") as file:\n",
    "        yaml.dump(content, file)\n"
   ]
  },
  {
   "cell_type": "code",
   "execution_count": 38,
   "metadata": {},
   "outputs": [],
   "source": [
    "write_yaml_file(file_path=\"/config/workspace/config/schema.yml\", content=config)"
   ]
  },
  {
   "cell_type": "code",
   "execution_count": 8,
   "metadata": {},
   "outputs": [],
   "source": [
    "train  =  pd.read_csv(r\"data-after-transformation/train.csv\", index_col=[0])\n",
    "test  =  pd.read_csv(r\"data-after-transformation/val.csv\", index_col=[0])"
   ]
  },
  {
   "cell_type": "code",
   "execution_count": 9,
   "metadata": {},
   "outputs": [],
   "source": [
    "from scipy.stats import ks_2samp"
   ]
  },
  {
   "cell_type": "code",
   "execution_count": 14,
   "metadata": {},
   "outputs": [],
   "source": [
    "def detect_data_drift(base_df,current_df,threshold:float=0.05):\n",
    "        \"\"\"\n",
    "        Detecting drift with the help of Kolmogorov-Smirnov Test or KS Test\n",
    "        \"\"\"\n",
    "    \n",
    "        status=True\n",
    "        report ={}\n",
    "        for column in base_df.columns:\n",
    "            d1 = base_df[column]\n",
    "            d2  = current_df[column]\n",
    "            is_same_dist = ks_2samp(d1,d2)\n",
    "            if threshold <= float(is_same_dist.pvalue):\n",
    "                is_found=False\n",
    "            else:\n",
    "                is_found = True \n",
    "                status=False\n",
    "            report.update({column:{\n",
    "                \"p_value\":float(is_same_dist.pvalue),\n",
    "                \"drift_status\":is_found\n",
    "                \n",
    "                }})\n",
    "        return report\n",
    "\n",
    "\n"
   ]
  },
  {
   "cell_type": "code",
   "execution_count": 15,
   "metadata": {},
   "outputs": [
    {
     "data": {
      "text/plain": [
       "{'CustomerID': {'p_value': 3.1598128052205115e-05, 'drift_status': True},\n",
       " 'Age': {'p_value': 0.0007325883049116936, 'drift_status': True},\n",
       " 'TypeofContact': {'p_value': 1.3019260249912014e-05, 'drift_status': True},\n",
       " 'CityTier': {'p_value': 0.015160195337131241, 'drift_status': True},\n",
       " 'DurationOfPitch': {'p_value': 4.5031841439558706e-10, 'drift_status': True},\n",
       " 'Occupation': {'p_value': 0.007963848847223955, 'drift_status': True},\n",
       " 'Gender': {'p_value': 3.2317186661353973e-07, 'drift_status': True},\n",
       " 'NumberOfPersonVisiting': {'p_value': 0.23830845994996958,\n",
       "  'drift_status': False},\n",
       " 'NumberOfFollowups': {'p_value': 5.027859245927144e-10, 'drift_status': True},\n",
       " 'ProductPitched': {'p_value': 1.5991568414997507e-16, 'drift_status': True},\n",
       " 'PreferredPropertyStar': {'p_value': 2.9041741338318857e-16,\n",
       "  'drift_status': True},\n",
       " 'MaritalStatus': {'p_value': 5.515163047396447e-08, 'drift_status': True},\n",
       " 'NumberOfTrips': {'p_value': 3.075287999482025e-05, 'drift_status': True},\n",
       " 'Passport': {'p_value': 0.9999999833387329, 'drift_status': False},\n",
       " 'PitchSatisfactionScore': {'p_value': 0.0011273316361491942,\n",
       "  'drift_status': True},\n",
       " 'OwnCar': {'p_value': 7.974089177356187e-09, 'drift_status': True},\n",
       " 'NumberOfChildrenVisiting': {'p_value': 3.300898492085951e-15,\n",
       "  'drift_status': True},\n",
       " 'Designation': {'p_value': 0.0025108748797186744, 'drift_status': True},\n",
       " 'MonthlyIncome': {'p_value': 0.00010712629118050876, 'drift_status': True},\n",
       " 'ProdTaken': {'p_value': 7.290227039739899e-83, 'drift_status': True}}"
      ]
     },
     "execution_count": 15,
     "metadata": {},
     "output_type": "execute_result"
    }
   ],
   "source": [
    "detect_data_drift(base_df=train, current_df=test)"
   ]
  },
  {
   "cell_type": "code",
   "execution_count": null,
   "metadata": {},
   "outputs": [],
   "source": []
  }
 ],
 "metadata": {
  "kernelspec": {
   "display_name": "Python 3.8.15 64-bit ('venv')",
   "language": "python",
   "name": "python3"
  },
  "language_info": {
   "codemirror_mode": {
    "name": "ipython",
    "version": 3
   },
   "file_extension": ".py",
   "mimetype": "text/x-python",
   "name": "python",
   "nbconvert_exporter": "python",
   "pygments_lexer": "ipython3",
   "version": "3.8.15"
  },
  "orig_nbformat": 4,
  "vscode": {
   "interpreter": {
    "hash": "1762875d695c3b8ce31fc2c385c40c45ae7c7b01a87f50658d419512c57bca88"
   }
  }
 },
 "nbformat": 4,
 "nbformat_minor": 2
}
